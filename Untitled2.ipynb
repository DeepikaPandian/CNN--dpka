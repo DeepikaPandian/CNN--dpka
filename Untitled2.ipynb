{
  "nbformat": 4,
  "nbformat_minor": 0,
  "metadata": {
    "colab": {
      "provenance": []
    },
    "kernelspec": {
      "name": "python3",
      "display_name": "Python 3"
    },
    "language_info": {
      "name": "python"
    }
  },
  "cells": [
    {
      "cell_type": "code",
      "execution_count": null,
      "metadata": {
        "id": "Y-B4MtTM73Tq"
      },
      "outputs": [],
      "source": []
    },
    {
      "cell_type": "code",
      "source": [],
      "metadata": {
        "id": "pmZo8bH7jfpm"
      },
      "execution_count": null,
      "outputs": []
    },
    {
      "cell_type": "code",
      "execution_count": null,
      "metadata": {
        "id": "r1zBBxsTZK1p"
      },
      "outputs": [],
      "source": [
        "import os\n",
        "import numpy as np # linear algebra\n",
        "import pandas as pd # data processing\n",
        "import tensorflow as tf\n",
        "from keras_preprocessing.image import ImageDataGenerator\n",
        "from keras.layers import Dense, Activation, Flatten, Dropout, BatchNormalization\n",
        "from keras.layers import MaxPooling2D, GlobalAveragePooling2D\n",
        "from keras.models import Sequential, Model\n",
        "from keras.applications.vgg16 import VGG16\n",
        "from keras.applications.resnet import ResNet50\n",
        "from keras.applications.inception_v3 import InceptionV3\n",
        "from keras import regularizers, optimizers\n",
        "from sklearn.model_selection import train_test_split\n",
        "\n",
        "from sklearn import metrics\n",
        "from sklearn.metrics import classification_report\n",
        "from sklearn.metrics import confusion_matrix\n",
        "from sklearn.metrics import f1_score,accuracy_score\n",
        "\n",
        "import matplotlib.pyplot as plt\n",
        "\n",
        "import imageio\n",
        "import cv2\n",
        "import warnings\n",
        "warnings.filterwarnings(\"ignore\")"
      ]
    },
    {
      "cell_type": "code",
      "execution_count": null,
      "metadata": {
        "colab": {
          "base_uri": "https://localhost:8080/"
        },
        "id": "EqTjWU2Iaji9",
        "outputId": "d1567cda-4f08-4bcf-9667-3dd52c55abd8"
      },
      "outputs": [
        {
          "output_type": "stream",
          "name": "stdout",
          "text": [
            "['Rain', 'Cloudy', 'Shine', 'Sunrise', '.ipynb_checkpoints', 'Weather_CNN.h5']\n"
          ]
        }
      ],
      "source": [
        "base_dir = '/content/drive/MyDrive/Colab Notebooks/Multi-class Weather Dataset'\n",
        "labels = ['Cloudy', 'Rain','Shine', 'Sunrise']\n",
        "\n",
        "print(os.listdir(base_dir))"
      ]
    },
    {
      "cell_type": "code",
      "execution_count": null,
      "metadata": {
        "id": "IN_RzJYBdQud"
      },
      "outputs": [],
      "source": [
        "path = []\n",
        "label = []\n",
        "\n",
        "for weather_type in os.listdir(base_dir):\n",
        "    label_path = os.path.join(base_dir,weather_type)\n",
        "    if weather_type in labels:\n",
        "        for img in os.listdir(label_path):\n",
        "            path.append(os.path.join(label_path, img))\n",
        "            label.append(weather_type)"
      ]
    },
    {
      "cell_type": "code",
      "execution_count": null,
      "metadata": {
        "id": "YetJGO_kajlr"
      },
      "outputs": [],
      "source": [
        "path = pd.Series(path)\n",
        "labels = pd.Series(label)\n",
        "img_data = pd.DataFrame({'Path':path.values, 'Label':labels.values})"
      ]
    },
    {
      "cell_type": "code",
      "execution_count": null,
      "metadata": {
        "colab": {
          "base_uri": "https://localhost:8080/"
        },
        "id": "OYf6x0Z2ajrB",
        "outputId": "18760cec-bcf3-4a2b-a0cf-0038ee49eba1"
      },
      "outputs": [
        {
          "output_type": "execute_result",
          "data": {
            "text/plain": [
              "((900, 2), (225, 2), (900, 1), (225, 1))"
            ]
          },
          "metadata": {},
          "execution_count": 5
        }
      ],
      "source": [
        "img_data = img_data.sample(frac=1, axis=0).reset_index(drop=True)\n",
        "\n",
        "X_train, X_val, y_train, y_val = train_test_split(img_data[['Path', 'Label']], img_data[['Label']], test_size=0.2, random_state=42)\n",
        "X_train.shape, X_val.shape, y_train.shape, y_val.shape"
      ]
    },
    {
      "cell_type": "code",
      "execution_count": null,
      "metadata": {
        "id": "7GFZ-sJ3vSuN"
      },
      "outputs": [],
      "source": [
        "train_datagen = ImageDataGenerator(\n",
        "    rescale=1/255.0,\n",
        "    shear_range=0.2,\n",
        "    rotation_range=20,\n",
        "    zoom_range=0.05,\n",
        "    horizontal_flip=True\n",
        "    )\n",
        "\n",
        "val_datagen = ImageDataGenerator(rescale = 1/255.0)"
      ]
    },
    {
      "cell_type": "code",
      "execution_count": null,
      "metadata": {
        "colab": {
          "base_uri": "https://localhost:8080/"
        },
        "id": "O-t_taVKajyf",
        "outputId": "68c46732-87f7-44ef-b2db-59c64f494b59"
      },
      "outputs": [
        {
          "output_type": "stream",
          "name": "stdout",
          "text": [
            "Found 900 validated image filenames belonging to 4 classes.\n",
            "Found 225 validated image filenames belonging to 4 classes.\n"
          ]
        }
      ],
      "source": [
        "batch_size = 128\n",
        "train_generator = train_datagen.flow_from_dataframe(\n",
        "    dataframe=X_train,\n",
        "    x_col=\"Path\",\n",
        "    y_col=\"Label\",\n",
        "    target_size=(224, 224),\n",
        "    batch_size=batch_size,\n",
        "    class_mode=\"categorical\",\n",
        "    subset='training',\n",
        "    shuffle=True,\n",
        "    seed=42)\n",
        "validation_generator = val_datagen.flow_from_dataframe(\n",
        "    dataframe=X_val,\n",
        "    x_col=\"Path\",\n",
        "    y_col=\"Label\",\n",
        "    target_size=(224, 224),\n",
        "    batch_size=8,\n",
        "    shuffle=False)"
      ]
    },
    {
      "cell_type": "code",
      "source": [
        "from tensorflow.keras.applications.resnet50 import preprocess_input\n",
        "train_datagen = ImageDataGenerator(\n",
        "     preprocessing_function=preprocess_input,\n",
        "    shear_range=0.2,\n",
        "    rotation_range=20,\n",
        "    zoom_range=0.05,\n",
        "    horizontal_flip=True\n",
        "    )\n",
        "\n",
        "val_datagen = ImageDataGenerator( preprocessing_function=preprocess_input\n",
        "                                 )\n",
        "\n",
        "batch_size = 128\n",
        "train_generator = train_datagen.flow_from_dataframe(\n",
        "    dataframe=X_train,\n",
        "    x_col=\"Path\",\n",
        "    y_col=\"Label\",\n",
        "    target_size=(224, 224),\n",
        "    batch_size=batch_size,\n",
        "    class_mode=\"categorical\",\n",
        "    subset='training',\n",
        "    shuffle=True,\n",
        "    seed=42)\n",
        "validation_generator = val_datagen.flow_from_dataframe(\n",
        "    dataframe=X_val,\n",
        "    x_col=\"Path\",\n",
        "    y_col=\"Label\",\n",
        "    target_size=(224, 224),\n",
        "    batch_size=8,\n",
        "    shuffle=False)"
      ],
      "metadata": {
        "colab": {
          "base_uri": "https://localhost:8080/"
        },
        "id": "xhwkaNkEoce0",
        "outputId": "75bcd296-a839-4552-cc5a-2971652ad1f4"
      },
      "execution_count": null,
      "outputs": [
        {
          "output_type": "stream",
          "name": "stdout",
          "text": [
            "Found 900 validated image filenames belonging to 4 classes.\n",
            "Found 225 validated image filenames belonging to 4 classes.\n"
          ]
        }
      ]
    },
    {
      "cell_type": "code",
      "source": [
        "resnet = ResNet50(weights='imagenet', include_top=False, input_shape=(224,224, 3))\n",
        "for layer in resnet.layers:\n",
        "    layer.trainable = False"
      ],
      "metadata": {
        "id": "XaS60h0AygIK",
        "colab": {
          "base_uri": "https://localhost:8080/"
        },
        "outputId": "5c0c5ecf-6e64-4c7a-c656-f0556956f41f"
      },
      "execution_count": null,
      "outputs": [
        {
          "output_type": "stream",
          "name": "stdout",
          "text": [
            "Downloading data from https://storage.googleapis.com/tensorflow/keras-applications/resnet/resnet50_weights_tf_dim_ordering_tf_kernels_notop.h5\n",
            "94773248/94765736 [==============================] - 1s 0us/step\n",
            "94781440/94765736 [==============================] - 1s 0us/step\n"
          ]
        }
      ]
    },
    {
      "cell_type": "code",
      "execution_count": null,
      "metadata": {
        "colab": {
          "base_uri": "https://localhost:8080/"
        },
        "id": "3XMACC_AjIzQ",
        "outputId": "66f0ce27-749f-470d-a2e9-0198374067be"
      },
      "outputs": [
        {
          "output_type": "stream",
          "name": "stdout",
          "text": [
            "Model: \"sequential_2\"\n",
            "_________________________________________________________________\n",
            " Layer (type)                Output Shape              Param #   \n",
            "=================================================================\n",
            " resnet50 (Functional)       (None, 7, 7, 2048)        23587712  \n",
            "                                                                 \n",
            " flatten_1 (Flatten)         (None, 100352)            0         \n",
            "                                                                 \n",
            " dense_3 (Dense)             (None, 128)               12845056  \n",
            "                                                                 \n",
            " batch_normalization_188 (Ba  (None, 128)              512       \n",
            " tchNormalization)                                               \n",
            "                                                                 \n",
            " activation_188 (Activation)  (None, 128)              0         \n",
            "                                                                 \n",
            " dropout_1 (Dropout)         (None, 128)               0         \n",
            "                                                                 \n",
            " dense_4 (Dense)             (None, 4)                 516       \n",
            "                                                                 \n",
            "=================================================================\n",
            "Total params: 36,433,796\n",
            "Trainable params: 12,845,828\n",
            "Non-trainable params: 23,587,968\n",
            "_________________________________________________________________\n"
          ]
        }
      ],
      "source": [
        "resnet_model = Sequential([\n",
        "    resnet,\n",
        "    Flatten(),\n",
        "    Dense(128, use_bias=False),\n",
        "  BatchNormalization(),\n",
        "  Activation(\"relu\"),\n",
        "Dropout(0.5),\n",
        "      Dense(4, activation=\"softmax\")\n",
        "])\n",
        "\n",
        "resnet_model.summary()"
      ]
    },
    {
      "cell_type": "code",
      "source": [
        "tf.keras.utils.plot_model(resnet_model,rankdir='LR',show_layer_activations=True)"
      ],
      "metadata": {
        "colab": {
          "base_uri": "https://localhost:8080/",
          "height": 69
        },
        "id": "76j05f0_9Bsz",
        "outputId": "a578bed3-af95-498c-f3b6-52b5276b0fa4"
      },
      "execution_count": null,
      "outputs": [
        {
          "output_type": "execute_result",
          "data": {
            "image/png": "[encoded data removed]",
            "text/plain": [
              "<IPython.core.display.Image object>"
            ]
          },
          "metadata": {},
          "execution_count": 46
        }
      ]
    },
    {
      "cell_type": "code",
      "execution_count": null,
      "metadata": {
        "colab": {
          "base_uri": "https://localhost:8080/"
        },
        "id": "pk5zRPorjOCH",
        "outputId": "ecb15073-1441-45a8-b3b7-54148aea218b"
      },
      "outputs": [
        {
          "output_type": "stream",
          "name": "stdout",
          "text": [
            "Epoch 1/10\n",
            "7/7 [==============================] - 209s 29s/step - loss: 0.5145 - accuracy: 0.7956 - val_loss: 1.4915 - val_accuracy: 0.8533\n",
            "Epoch 2/10\n",
            "7/7 [==============================] - 201s 29s/step - loss: 0.1568 - accuracy: 0.9433 - val_loss: 0.6815 - val_accuracy: 0.8800\n",
            "Epoch 3/10\n",
            "7/7 [==============================] - 204s 34s/step - loss: 0.1297 - accuracy: 0.9578 - val_loss: 0.4227 - val_accuracy: 0.8889\n",
            "Epoch 4/10\n",
            "7/7 [==============================] - 207s 30s/step - loss: 0.1155 - accuracy: 0.9733 - val_loss: 0.2972 - val_accuracy: 0.9067\n",
            "Epoch 5/10\n",
            "7/7 [==============================] - 205s 30s/step - loss: 0.0933 - accuracy: 0.9744 - val_loss: 0.1927 - val_accuracy: 0.9333\n",
            "Epoch 6/10\n",
            "7/7 [==============================] - 207s 30s/step - loss: 0.0854 - accuracy: 0.9711 - val_loss: 0.1429 - val_accuracy: 0.9556\n",
            "Epoch 7/10\n",
            "7/7 [==============================] - 206s 30s/step - loss: 0.0806 - accuracy: 0.9767 - val_loss: 0.1154 - val_accuracy: 0.9556\n",
            "Epoch 8/10\n",
            "7/7 [==============================] - 206s 30s/step - loss: 0.0697 - accuracy: 0.9856 - val_loss: 0.0983 - val_accuracy: 0.9600\n",
            "Epoch 9/10\n",
            "7/7 [==============================] - 188s 27s/step - loss: 0.0703 - accuracy: 0.9856 - val_loss: 0.0869 - val_accuracy: 0.9600\n",
            "Epoch 10/10\n",
            "7/7 [==============================] - 194s 27s/step - loss: 0.0620 - accuracy: 0.9844 - val_loss: 0.0787 - val_accuracy: 0.9600\n"
          ]
        }
      ],
      "source": [
        "resnet_model.compile(optimizer='adam' ,loss='categorical_crossentropy' ,metrics='accuracy')\n",
        "resnet_history = resnet_model.fit(train_generator ,\n",
        "          validation_data = validation_generator ,\n",
        "          epochs = 10,\n",
        "          steps_per_epoch = len(X_train)/batch_size \n",
        "          )"
      ]
    },
    {
      "cell_type": "code",
      "source": [
        "def plot_model(model,model_history,epoch,model_name):\n",
        "  epoch_range = range(1, epoch+1)\n",
        "  plt.plot(epoch_range, model_history.history['accuracy'])\n",
        "  plt.plot(epoch_range, model_history.history['val_accuracy'])\n",
        "  plt.title('Classification Accuracy- {}'.format(model_name))\n",
        "  plt.ylabel('Accuracy')\n",
        "  plt.xlabel('Epoch')\n",
        "  plt.legend(['Training Set', 'Validation Set'], loc='lower right')\n",
        "  plt.show()\n",
        "\n",
        "  # Plot training & validation loss values\n",
        "  plt.plot(epoch_range,model_history.history['loss'])\n",
        "  plt.plot(epoch_range, model_history.history['val_loss'])\n",
        "  plt.title('Model loss - {}'.format(model_name))\n",
        "  plt.ylabel('Loss')\n",
        "  plt.xlabel('Epoch')\n",
        "  plt.legend(['Training Set', 'Validation Set'], loc='lower right')\n",
        "  plt.show()"
      ],
      "metadata": {
        "id": "g8gaCTLZ4LD1"
      },
      "execution_count": null,
      "outputs": []
    },
    {
      "cell_type": "code",
      "source": [
        "tf.keras.models.save_model(resnet_model, '/content/drive/MyDrive/Colab Notebooks/Multi-class Weather Dataset/Weather_Resnet50.h5')"
      ],
      "metadata": {
        "id": "rPmUWbY74JJn"
      },
      "execution_count": null,
      "outputs": []
    },
    {
      "cell_type": "code",
      "source": [
        "def plot_confusion_matrix(model):\n",
        "  y_pred = model.predict_generator(validation_generator)\n",
        "  y_pred = np.argmax(y_pred ,axis =1)\n",
        "  cm = confusion_matrix(validation_generator.classes, y_pred)\n",
        "  return cm"
      ],
      "metadata": {
        "id": "TgXiPtFC2061"
      },
      "execution_count": null,
      "outputs": []
    },
    {
      "cell_type": "code",
      "source": [
        "def class_report(model,model_name):\n",
        "  labels = ['Cloudy', 'Rain','Shine', 'Sunrise'] \n",
        "  y_pred = model.predict_generator(validation_generator)\n",
        "  y_pred = np.argmax(y_pred ,axis =1)\n",
        "  print('\\t\\t','Classification Report- {}'.format(model_name))\n",
        "  print(classification_report(validation_generator.classes, y_pred, target_names=labels))"
      ],
      "metadata": {
        "id": "tRVrbew57J6Z"
      },
      "execution_count": null,
      "outputs": []
    },
    {
      "cell_type": "code",
      "source": [
        "plot_model(resnet_model,resnet_history,10,model_name = 'Resnet50')"
      ],
      "metadata": {
        "colab": {
          "base_uri": "https://localhost:8080/",
          "height": 573
        },
        "id": "GWqz4R4m4B8-",
        "outputId": "a1da8224-d9da-4fe3-d4e5-58cde01005ee"
      },
      "execution_count": null,
      "outputs": [
        {
          "output_type": "display_data",
          "data": {
            "text/plain": [
              "<Figure size 432x288 with 1 Axes>"
            ],
            "image/png": "[encoded data removed]"
          },
          "metadata": {
            "needs_background": "light"
          }
        },
        {
          "output_type": "display_data",
          "data": {
            "text/plain": [
              "<Figure size 432x288 with 1 Axes>"
            ],
            "image/png": "[encoded data removed]"
          },
          "metadata": {
            "needs_background": "light"
          }
        }
      ]
    },
    {
      "cell_type": "code",
      "source": [
        "plot_confusion_matrix(resnet_model)"
      ],
      "metadata": {
        "colab": {
          "base_uri": "https://localhost:8080/"
        },
        "id": "L6Fl5cXi6Pop",
        "outputId": "9b5904d7-f136-49ae-bc6b-f27f146a0e83"
      },
      "execution_count": null,
      "outputs": [
        {
          "output_type": "execute_result",
          "data": {
            "text/plain": [
              "array([[56,  0,  3,  1],\n",
              "       [ 0, 37,  1,  0],\n",
              "       [ 1,  0, 55,  0],\n",
              "       [ 0,  0,  1, 70]])"
            ]
          },
          "metadata": {},
          "execution_count": 41
        }
      ]
    },
    {
      "cell_type": "code",
      "source": [
        "class_report(resnet_model,model_name='ResNet50')"
      ],
      "metadata": {
        "colab": {
          "base_uri": "https://localhost:8080/"
        },
        "id": "XW34CwVZ7QPq",
        "outputId": "8c7370b7-2cb1-47e4-9bdc-5691027b6685"
      },
      "execution_count": null,
      "outputs": [
        {
          "output_type": "stream",
          "name": "stdout",
          "text": [
            "\t\t Classification Report- ResNet50\n",
            "              precision    recall  f1-score   support\n",
            "\n",
            "      Cloudy       0.98      0.93      0.96        60\n",
            "        Rain       1.00      0.97      0.99        38\n",
            "       Shine       0.92      0.98      0.95        56\n",
            "     Sunrise       0.99      0.99      0.99        71\n",
            "\n",
            "    accuracy                           0.97       225\n",
            "   macro avg       0.97      0.97      0.97       225\n",
            "weighted avg       0.97      0.97      0.97       225\n",
            "\n"
          ]
        }
      ]
    },
    {
      "cell_type": "code",
      "source": [],
      "metadata": {
        "id": "2ZrMTQp7v285"
      },
      "execution_count": null,
      "outputs": []
    },
    {
      "cell_type": "code",
      "execution_count": null,
      "metadata": {
        "id": "oZyp-1Hk1t4x",
        "colab": {
          "base_uri": "https://localhost:8080/"
        },
        "outputId": "ccb4a362-9c33-492a-a279-ccacd852f9d2"
      },
      "outputs": [
        {
          "output_type": "stream",
          "name": "stdout",
          "text": [
            "Looking in indexes: https://pypi.org/simple, https://us-python.pkg.dev/colab-wheels/public/simple/\n",
            "Requirement already satisfied: streamlit in /usr/local/lib/python3.7/dist-packages (1.13.0)\n",
            "Requirement already satisfied: requests>=2.4 in /usr/local/lib/python3.7/dist-packages (from streamlit) (2.23.0)\n",
            "Requirement already satisfied: numpy in /usr/local/lib/python3.7/dist-packages (from streamlit) (1.21.6)\n",
            "Requirement already satisfied: semver in /usr/local/lib/python3.7/dist-packages (from streamlit) (2.13.0)\n",
            "Requirement already satisfied: pympler>=0.9 in /usr/local/lib/python3.7/dist-packages (from streamlit) (1.0.1)\n",
            "Requirement already satisfied: rich>=10.11.0 in /usr/local/lib/python3.7/dist-packages (from streamlit) (12.5.1)\n",
            "Requirement already satisfied: watchdog in /usr/local/lib/python3.7/dist-packages (from streamlit) (2.1.9)\n",
            "Requirement already satisfied: validators>=0.2 in /usr/local/lib/python3.7/dist-packages (from streamlit) (0.20.0)\n",
            "Requirement already satisfied: pyarrow>=4.0 in /usr/local/lib/python3.7/dist-packages (from streamlit) (6.0.1)\n",
            "Requirement already satisfied: altair>=3.2.0 in /usr/local/lib/python3.7/dist-packages (from streamlit) (4.2.0)\n",
            "Requirement already satisfied: pillow>=6.2.0 in /usr/local/lib/python3.7/dist-packages (from streamlit) (7.1.2)\n",
            "Requirement already satisfied: cachetools>=4.0 in /usr/local/lib/python3.7/dist-packages (from streamlit) (4.2.4)\n",
            "Requirement already satisfied: pandas>=0.21.0 in /usr/local/lib/python3.7/dist-packages (from streamlit) (1.3.5)\n",
            "Requirement already satisfied: python-dateutil in /usr/local/lib/python3.7/dist-packages (from streamlit) (2.8.2)\n",
            "Requirement already satisfied: blinker>=1.0.0 in /usr/local/lib/python3.7/dist-packages (from streamlit) (1.5)\n",
            "Requirement already satisfied: packaging>=14.1 in /usr/local/lib/python3.7/dist-packages (from streamlit) (21.3)\n",
            "Requirement already satisfied: toml in /usr/local/lib/python3.7/dist-packages (from streamlit) (0.10.2)\n",
            "Requirement already satisfied: tzlocal>=1.1 in /usr/local/lib/python3.7/dist-packages (from streamlit) (1.5.1)\n",
            "Requirement already satisfied: gitpython!=3.1.19 in /usr/local/lib/python3.7/dist-packages (from streamlit) (3.1.27)\n",
            "Requirement already satisfied: tornado>=5.0 in /usr/local/lib/python3.7/dist-packages (from streamlit) (5.1.1)\n",
            "Requirement already satisfied: protobuf!=3.20.2,<4,>=3.12 in /usr/local/lib/python3.7/dist-packages (from streamlit) (3.17.3)\n",
            "Requirement already satisfied: pydeck>=0.1.dev5 in /usr/local/lib/python3.7/dist-packages (from streamlit) (0.8.0b3)\n",
            "Requirement already satisfied: importlib-metadata>=1.4 in /usr/local/lib/python3.7/dist-packages (from streamlit) (4.12.0)\n",
            "Requirement already satisfied: typing-extensions>=3.10.0.0 in /usr/local/lib/python3.7/dist-packages (from streamlit) (4.1.1)\n",
            "Requirement already satisfied: click>=7.0 in /usr/local/lib/python3.7/dist-packages (from streamlit) (7.1.2)\n",
            "Requirement already satisfied: jinja2 in /usr/local/lib/python3.7/dist-packages (from altair>=3.2.0->streamlit) (2.11.3)\n",
            "Requirement already satisfied: entrypoints in /usr/local/lib/python3.7/dist-packages (from altair>=3.2.0->streamlit) (0.4)\n",
            "Requirement already satisfied: jsonschema>=3.0 in /usr/local/lib/python3.7/dist-packages (from altair>=3.2.0->streamlit) (4.3.3)\n",
            "Requirement already satisfied: toolz in /usr/local/lib/python3.7/dist-packages (from altair>=3.2.0->streamlit) (0.12.0)\n",
            "Requirement already satisfied: gitdb<5,>=4.0.1 in /usr/local/lib/python3.7/dist-packages (from gitpython!=3.1.19->streamlit) (4.0.9)\n",
            "Requirement already satisfied: smmap<6,>=3.0.1 in /usr/local/lib/python3.7/dist-packages (from gitdb<5,>=4.0.1->gitpython!=3.1.19->streamlit) (5.0.0)\n",
            "Requirement already satisfied: zipp>=0.5 in /usr/local/lib/python3.7/dist-packages (from importlib-metadata>=1.4->streamlit) (3.8.1)\n",
            "Requirement already satisfied: attrs>=17.4.0 in /usr/local/lib/python3.7/dist-packages (from jsonschema>=3.0->altair>=3.2.0->streamlit) (22.1.0)\n",
            "Requirement already satisfied: pyrsistent!=0.17.0,!=0.17.1,!=0.17.2,>=0.14.0 in /usr/local/lib/python3.7/dist-packages (from jsonschema>=3.0->altair>=3.2.0->streamlit) (0.18.1)\n",
            "Requirement already satisfied: importlib-resources>=1.4.0 in /usr/local/lib/python3.7/dist-packages (from jsonschema>=3.0->altair>=3.2.0->streamlit) (5.9.0)\n",
            "Requirement already satisfied: pyparsing!=3.0.5,>=2.0.2 in /usr/local/lib/python3.7/dist-packages (from packaging>=14.1->streamlit) (3.0.9)\n",
            "Requirement already satisfied: pytz>=2017.3 in /usr/local/lib/python3.7/dist-packages (from pandas>=0.21.0->streamlit) (2022.2.1)\n",
            "Requirement already satisfied: six>=1.9 in /usr/local/lib/python3.7/dist-packages (from protobuf!=3.20.2,<4,>=3.12->streamlit) (1.15.0)\n",
            "Requirement already satisfied: MarkupSafe>=0.23 in /usr/local/lib/python3.7/dist-packages (from jinja2->altair>=3.2.0->streamlit) (2.0.1)\n",
            "Requirement already satisfied: chardet<4,>=3.0.2 in /usr/local/lib/python3.7/dist-packages (from requests>=2.4->streamlit) (3.0.4)\n",
            "Requirement already satisfied: certifi>=2017.4.17 in /usr/local/lib/python3.7/dist-packages (from requests>=2.4->streamlit) (2022.6.15)\n",
            "Requirement already satisfied: idna<3,>=2.5 in /usr/local/lib/python3.7/dist-packages (from requests>=2.4->streamlit) (2.10)\n",
            "Requirement already satisfied: urllib3!=1.25.0,!=1.25.1,<1.26,>=1.21.1 in /usr/local/lib/python3.7/dist-packages (from requests>=2.4->streamlit) (1.24.3)\n",
            "Requirement already satisfied: pygments<3.0.0,>=2.6.0 in /usr/local/lib/python3.7/dist-packages (from rich>=10.11.0->streamlit) (2.6.1)\n",
            "Requirement already satisfied: commonmark<0.10.0,>=0.9.0 in /usr/local/lib/python3.7/dist-packages (from rich>=10.11.0->streamlit) (0.9.1)\n",
            "Requirement already satisfied: decorator>=3.4.0 in /usr/local/lib/python3.7/dist-packages (from validators>=0.2->streamlit) (4.4.2)\n"
          ]
        }
      ],
      "source": [
        "!pip install streamlit"
      ]
    },
    {
      "cell_type": "code",
      "execution_count": null,
      "metadata": {
        "id": "o4e6_dOCthzU",
        "colab": {
          "base_uri": "https://localhost:8080/"
        },
        "outputId": "4fdc0007-73b9-4048-ae70-72475f0d4639"
      },
      "outputs": [
        {
          "output_type": "stream",
          "name": "stdout",
          "text": [
            "Looking in indexes: https://pypi.org/simple, https://us-python.pkg.dev/colab-wheels/public/simple/\n",
            "Requirement already satisfied: pyngrok in /usr/local/lib/python3.7/dist-packages (5.1.0)\n",
            "Requirement already satisfied: PyYAML in /usr/local/lib/python3.7/dist-packages (from pyngrok) (6.0)\n"
          ]
        }
      ],
      "source": [
        "!pip install pyngrok"
      ]
    },
    {
      "cell_type": "code",
      "source": [
        "img = image / 255.0\n",
        "  "
      ],
      "metadata": {
        "id": "N24qPPny5Mi8"
      },
      "execution_count": null,
      "outputs": []
    },
    {
      "cell_type": "code",
      "execution_count": null,
      "metadata": {
        "colab": {
          "base_uri": "https://localhost:8080/"
        },
        "id": "9yeKp2O5osIs",
        "outputId": "cb968eab-4223-441e-9c07-511b87c82351"
      },
      "outputs": [
        {
          "output_type": "stream",
          "name": "stdout",
          "text": [
            "Overwriting app.py\n"
          ]
        }
      ],
      "source": [
        "%%writefile app.py\n",
        "import streamlit as st\n",
        "import numpy as np\n",
        "import tensorflow as tf\n",
        "\n",
        "\n",
        "@st.cache(allow_output_mutation=True)\n",
        "def load_model():\n",
        "  model = tf.keras.models.load_model('/content/drive/MyDrive/Colab Notebooks/Multi-class Weather Dataset/Weather_Resnet50.h5')\n",
        "  return model\n",
        "with st.spinner('Model is loading........'):\n",
        "  model = load_model()\n",
        "\n",
        "st.write(\"\"\" \n",
        "          # Weather Data Classification\n",
        "        \"\"\"\n",
        "        )\n",
        "\n",
        "file = st.file_uploader(\"Please upload a weather image file\", type=['jpg', 'png', 'jpeg'])\n",
        "\n",
        "import cv2\n",
        "from PIL import Image, ImageOps\n",
        "\n",
        "st.set_option('deprecation.showfileUploaderEncoding', False)\n",
        "\n",
        "def import_and_predict(image_data, model):\n",
        "  size = (224, 224)\n",
        "  image = ImageOps.fit(image_data, size, Image.ANTIALIAS)\n",
        "  image = np.asarray(image)\n",
        "  img = tf.keras.applications.resnet50.preprocess_input(image)\n",
        "  img = img.reshape(1,224,224,3)\n",
        "  prediction = model.predict_generator(img)\n",
        "  return prediction\n",
        "\n",
        "if file is None:\n",
        "  st.text(\"Please upload an image file\")\n",
        "else:\n",
        "  image = Image.open(file)\n",
        "  predictions = import_and_predict(image, model)\n",
        "  class_names = [ 'Cloudy', 'Rain','Shine', 'Sunrise']\n",
        "  string = \"This particular image is most likely to be a :\" +class_names[np.argmax(predictions)]\n",
        "  st.success(string)\n",
        "  st.image(image, use_column_width=None)\n",
        "  st.write('Probablity of image being the following classes:')\n",
        "  st.write('**Cloudy**:',round(predictions[0][0]*100,2),'%')\n",
        "  st.write('**Rain**:',round(predictions[0][1]*100,2),'%')\n",
        "  st.write('**Shine**:',round(predictions[0][2]*100,2),'%')\n",
        "  st.write('**Sunrise**:',round(predictions[0][3]*100,2),'%')\n",
        "  \n",
        "  "
      ]
    },
    {
      "cell_type": "code",
      "execution_count": null,
      "metadata": {
        "id": "hsL4HijPsmUu"
      },
      "outputs": [],
      "source": [
        "from pyngrok import ngrok"
      ]
    },
    {
      "cell_type": "code",
      "execution_count": null,
      "metadata": {
        "id": "xSqf6BnxtxG-"
      },
      "outputs": [],
      "source": [
        "ngrok.set_auth_token('2EynooSciOZJJfp12VgPmwrimtv_4VbsCUhW7yUZR17btuwEm')"
      ]
    },
    {
      "cell_type": "code",
      "execution_count": null,
      "metadata": {
        "colab": {
          "base_uri": "https://localhost:8080/"
        },
        "id": "C_lGjy4Vt9-y",
        "outputId": "6cfe4347-ea59-46c2-8ff3-87c9184c7fd8"
      },
      "outputs": [
        {
          "output_type": "stream",
          "name": "stdout",
          "text": [
            "nohup: appending output to 'nohup.out'\n",
            "\u001b[K\u001b[?25hnpx: installed 22 in 3.205s\n",
            "your url is: https://violet-seas-juggle-35-231-229-179.loca.lt\n",
            "^C\n"
          ]
        }
      ],
      "source": [
        "!nohup streamlit run app.py & npx localtunnel --port 8501 "
      ]
    },
    {
      "cell_type": "code",
      "source": [
        "tf.keras.applications.inception_v3.preprocess_input\n",
        "train_datagen = ImageDataGenerator(\n",
        "    rescale=1/255.0,\n",
        "    shear_range=0.2,\n",
        "    rotation_range=20,\n",
        "    zoom_range=0.05,\n",
        "    horizontal_flip=True\n",
        "    )\n",
        "\n",
        "val_datagen = ImageDataGenerator(rescale = 1/255.0)\n",
        "\n",
        "batch_size = 128\n",
        "train_generator = train_datagen.flow_from_dataframe(\n",
        "    dataframe=X_train,\n",
        "    x_col=\"Path\",\n",
        "    y_col=\"Label\",\n",
        "    target_size=(224, 224),\n",
        "    batch_size=batch_size,\n",
        "    class_mode=\"categorical\",\n",
        "    subset='training',\n",
        "    shuffle=True,\n",
        "    seed=42)\n",
        "validation_generator = val_datagen.flow_from_dataframe(\n",
        "    dataframe=X_val,\n",
        "    x_col=\"Path\",\n",
        "    y_col=\"Label\",\n",
        "    target_size=(224, 224),\n",
        "    batch_size=8,\n",
        "    shuffle=False)"
      ],
      "metadata": {
        "colab": {
          "base_uri": "https://localhost:8080/",
          "height": 236
        },
        "id": "XWIwnwbW4K26",
        "outputId": "08411173-b7c8-4121-f785-e16ce927a781"
      },
      "execution_count": null,
      "outputs": [
        {
          "output_type": "error",
          "ename": "NameError",
          "evalue": "ignored",
          "traceback": [
            "\u001b[0;31m---------------------------------------------------------------------------\u001b[0m",
            "\u001b[0;31mNameError\u001b[0m                                 Traceback (most recent call last)",
            "\u001b[0;32m<ipython-input-2-18a3b298e1d2>\u001b[0m in \u001b[0;36m<module>\u001b[0;34m\u001b[0m\n\u001b[0;32m----> 1\u001b[0;31m \u001b[0mtf\u001b[0m\u001b[0;34m.\u001b[0m\u001b[0mkeras\u001b[0m\u001b[0;34m.\u001b[0m\u001b[0mapplications\u001b[0m\u001b[0;34m.\u001b[0m\u001b[0minception_v3\u001b[0m\u001b[0;34m.\u001b[0m\u001b[0mpreprocess_input\u001b[0m\u001b[0;34m\u001b[0m\u001b[0;34m\u001b[0m\u001b[0m\n\u001b[0m\u001b[1;32m      2\u001b[0m train_datagen = ImageDataGenerator(\n\u001b[1;32m      3\u001b[0m     \u001b[0mrescale\u001b[0m\u001b[0;34m=\u001b[0m\u001b[0;36m1\u001b[0m\u001b[0;34m/\u001b[0m\u001b[0;36m255.0\u001b[0m\u001b[0;34m,\u001b[0m\u001b[0;34m\u001b[0m\u001b[0;34m\u001b[0m\u001b[0m\n\u001b[1;32m      4\u001b[0m     \u001b[0mshear_range\u001b[0m\u001b[0;34m=\u001b[0m\u001b[0;36m0.2\u001b[0m\u001b[0;34m,\u001b[0m\u001b[0;34m\u001b[0m\u001b[0;34m\u001b[0m\u001b[0m\n\u001b[1;32m      5\u001b[0m     \u001b[0mrotation_range\u001b[0m\u001b[0;34m=\u001b[0m\u001b[0;36m20\u001b[0m\u001b[0;34m,\u001b[0m\u001b[0;34m\u001b[0m\u001b[0;34m\u001b[0m\u001b[0m\n",
            "\u001b[0;31mNameError\u001b[0m: name 'tf' is not defined"
          ]
        }
      ]
    },
    {
      "cell_type": "code",
      "source": [
        "tf.keras.utils.plot_model(VGG_model,rankdir='LR',show_layer_activations=True)"
      ],
      "metadata": {
        "colab": {
          "base_uri": "https://localhost:8080/",
          "height": 90
        },
        "id": "GkUI1zh1-S9u",
        "outputId": "c25794f6-627e-4a87-91f5-83897a436436"
      },
      "execution_count": null,
      "outputs": [
        {
          "output_type": "execute_result",
          "data": {
            "image/png": "[encoded data removed]",
            "text/plain": [
              "<IPython.core.display.Image object>"
            ]
          },
          "metadata": {},
          "execution_count": 11
        }
      ]
    },
    {
      "cell_type": "code",
      "source": [
        "from tensorflow.keras.applications.inception_v3 import preprocess_input\n",
        "train_datagen = ImageDataGenerator(\n",
        "     preprocessing_function=preprocess_input,\n",
        "    shear_range=0.2,\n",
        "    rotation_range=20,\n",
        "    zoom_range=0.05,\n",
        "    horizontal_flip=True\n",
        "    )\n",
        "\n",
        "val_datagen = ImageDataGenerator( preprocessing_function=preprocess_input\n",
        "                                 )\n",
        "\n",
        "batch_size = 128\n",
        "train_generator = train_datagen.flow_from_dataframe(\n",
        "    dataframe=X_train,\n",
        "    x_col=\"Path\",\n",
        "    y_col=\"Label\",\n",
        "    target_size=(224, 224),\n",
        "    batch_size=batch_size,\n",
        "    class_mode=\"categorical\",\n",
        "    subset='training',\n",
        "    shuffle=True,\n",
        "    seed=42)\n",
        "validation_generator = val_datagen.flow_from_dataframe(\n",
        "    dataframe=X_val,\n",
        "    x_col=\"Path\",\n",
        "    y_col=\"Label\",\n",
        "    target_size=(224, 224),\n",
        "    batch_size=8,\n",
        "    shuffle=False)"
      ],
      "metadata": {
        "colab": {
          "base_uri": "https://localhost:8080/"
        },
        "id": "9WPW0mQsFy38",
        "outputId": "dd7ad8e8-5679-446a-ace4-7cd13fdeec1d"
      },
      "execution_count": null,
      "outputs": [
        {
          "output_type": "stream",
          "name": "stdout",
          "text": [
            "Found 900 validated image filenames belonging to 4 classes.\n",
            "Found 225 validated image filenames belonging to 4 classes.\n"
          ]
        }
      ]
    },
    {
      "cell_type": "code",
      "source": [
        "inception = InceptionV3(weights='imagenet', include_top=False, input_shape=(224, 224, 3))\n",
        "for layer in inception.layers:\n",
        "    layer.trainable = False\n",
        "\n",
        "inception_model = Sequential([\n",
        "        inception,\n",
        "        Flatten(),\n",
        "        Dense(1024,activation ='relu'),\n",
        "        Dropout(0.3),\n",
        "        Dense(4, activation='softmax')\n",
        "])\n",
        "inception_model.summary()"
      ],
      "metadata": {
        "id": "cwHCReDqY2AN",
        "colab": {
          "base_uri": "https://localhost:8080/"
        },
        "outputId": "ad88afc2-16d8-4ee1-d21a-ba1622fed1b4"
      },
      "execution_count": null,
      "outputs": [
        {
          "output_type": "stream",
          "name": "stdout",
          "text": [
            "Model: \"sequential_1\"\n",
            "_________________________________________________________________\n",
            " Layer (type)                Output Shape              Param #   \n",
            "=================================================================\n",
            " inception_v3 (Functional)   (None, 5, 5, 2048)        21802784  \n",
            "                                                                 \n",
            " flatten (Flatten)           (None, 51200)             0         \n",
            "                                                                 \n",
            " dense_1 (Dense)             (None, 1024)              52429824  \n",
            "                                                                 \n",
            " dropout (Dropout)           (None, 1024)              0         \n",
            "                                                                 \n",
            " dense_2 (Dense)             (None, 4)                 4100      \n",
            "                                                                 \n",
            "=================================================================\n",
            "Total params: 74,236,708\n",
            "Trainable params: 52,433,924\n",
            "Non-trainable params: 21,802,784\n",
            "_________________________________________________________________\n"
          ]
        }
      ]
    },
    {
      "cell_type": "code",
      "source": [
        "tf.keras.utils.plot_model(inception_model,rankdir='LR',show_layer_activations=True)"
      ],
      "metadata": {
        "colab": {
          "base_uri": "https://localhost:8080/",
          "height": 90
        },
        "id": "hsF6XJucY19n",
        "outputId": "47d8f458-1124-4e9b-d62e-de375cb06550"
      },
      "execution_count": null,
      "outputs": [
        {
          "output_type": "execute_result",
          "data": {
            "image/png": "[encoded data removed]",
            "text/plain": [
              "<IPython.core.display.Image object>"
            ]
          },
          "metadata": {},
          "execution_count": 39
        }
      ]
    },
    {
      "cell_type": "code",
      "source": [
        "inception_model.compile(\n",
        "        optimizer= 'adam',\n",
        "        loss=\"categorical_crossentropy\",\n",
        "        metrics=[\"accuracy\"])\n",
        "\n",
        "inception_history = inception_model.fit(train_generator, \n",
        "                    steps_per_epoch = len(X_train)/batch_size, \n",
        "                    validation_data = validation_generator,\n",
        "                    epochs = 10)"
      ],
      "metadata": {
        "colab": {
          "base_uri": "https://localhost:8080/",
          "height": 436
        },
        "id": "W6q91OF3_yGm",
        "outputId": "f5f67cce-fe48-498b-b83e-25c32d550578"
      },
      "execution_count": null,
      "outputs": [
        {
          "output_type": "stream",
          "name": "stdout",
          "text": [
            "Epoch 1/10\n",
            "7/7 [==============================] - 157s 22s/step - loss: 48.4795 - accuracy: 0.3900 - val_loss: 15.7264 - val_accuracy: 0.5289\n",
            "Epoch 2/10\n"
          ]
        },
        {
          "output_type": "error",
          "ename": "KeyboardInterrupt",
          "evalue": "ignored",
          "traceback": [
            "\u001b[0;31m---------------------------------------------------------------------------\u001b[0m",
            "\u001b[0;31mKeyboardInterrupt\u001b[0m                         Traceback (most recent call last)",
            "\u001b[0;32m<ipython-input-13-612a278a5780>\u001b[0m in \u001b[0;36m<module>\u001b[0;34m\u001b[0m\n\u001b[1;32m      7\u001b[0m                     \u001b[0msteps_per_epoch\u001b[0m \u001b[0;34m=\u001b[0m \u001b[0mlen\u001b[0m\u001b[0;34m(\u001b[0m\u001b[0mX_train\u001b[0m\u001b[0;34m)\u001b[0m\u001b[0;34m/\u001b[0m\u001b[0mbatch_size\u001b[0m\u001b[0;34m,\u001b[0m\u001b[0;34m\u001b[0m\u001b[0;34m\u001b[0m\u001b[0m\n\u001b[1;32m      8\u001b[0m                     \u001b[0mvalidation_data\u001b[0m \u001b[0;34m=\u001b[0m \u001b[0mvalidation_generator\u001b[0m\u001b[0;34m,\u001b[0m\u001b[0;34m\u001b[0m\u001b[0;34m\u001b[0m\u001b[0m\n\u001b[0;32m----> 9\u001b[0;31m                     epochs = 10)\n\u001b[0m",
            "\u001b[0;32m/usr/local/lib/python3.7/dist-packages/keras/utils/traceback_utils.py\u001b[0m in \u001b[0;36merror_handler\u001b[0;34m(*args, **kwargs)\u001b[0m\n\u001b[1;32m     62\u001b[0m     \u001b[0mfiltered_tb\u001b[0m \u001b[0;34m=\u001b[0m \u001b[0;32mNone\u001b[0m\u001b[0;34m\u001b[0m\u001b[0;34m\u001b[0m\u001b[0m\n\u001b[1;32m     63\u001b[0m     \u001b[0;32mtry\u001b[0m\u001b[0;34m:\u001b[0m\u001b[0;34m\u001b[0m\u001b[0;34m\u001b[0m\u001b[0m\n\u001b[0;32m---> 64\u001b[0;31m       \u001b[0;32mreturn\u001b[0m \u001b[0mfn\u001b[0m\u001b[0;34m(\u001b[0m\u001b[0;34m*\u001b[0m\u001b[0margs\u001b[0m\u001b[0;34m,\u001b[0m \u001b[0;34m**\u001b[0m\u001b[0mkwargs\u001b[0m\u001b[0;34m)\u001b[0m\u001b[0;34m\u001b[0m\u001b[0;34m\u001b[0m\u001b[0m\n\u001b[0m\u001b[1;32m     65\u001b[0m     \u001b[0;32mexcept\u001b[0m \u001b[0mException\u001b[0m \u001b[0;32mas\u001b[0m \u001b[0me\u001b[0m\u001b[0;34m:\u001b[0m  \u001b[0;31m# pylint: disable=broad-except\u001b[0m\u001b[0;34m\u001b[0m\u001b[0;34m\u001b[0m\u001b[0m\n\u001b[1;32m     66\u001b[0m       \u001b[0mfiltered_tb\u001b[0m \u001b[0;34m=\u001b[0m \u001b[0m_process_traceback_frames\u001b[0m\u001b[0;34m(\u001b[0m\u001b[0me\u001b[0m\u001b[0;34m.\u001b[0m\u001b[0m__traceback__\u001b[0m\u001b[0;34m)\u001b[0m\u001b[0;34m\u001b[0m\u001b[0;34m\u001b[0m\u001b[0m\n",
            "\u001b[0;32m/usr/local/lib/python3.7/dist-packages/keras/engine/training.py\u001b[0m in \u001b[0;36mfit\u001b[0;34m(self, x, y, batch_size, epochs, verbose, callbacks, validation_split, validation_data, shuffle, class_weight, sample_weight, initial_epoch, steps_per_epoch, validation_steps, validation_batch_size, validation_freq, max_queue_size, workers, use_multiprocessing)\u001b[0m\n\u001b[1;32m   1382\u001b[0m                 _r=1):\n\u001b[1;32m   1383\u001b[0m               \u001b[0mcallbacks\u001b[0m\u001b[0;34m.\u001b[0m\u001b[0mon_train_batch_begin\u001b[0m\u001b[0;34m(\u001b[0m\u001b[0mstep\u001b[0m\u001b[0;34m)\u001b[0m\u001b[0;34m\u001b[0m\u001b[0;34m\u001b[0m\u001b[0m\n\u001b[0;32m-> 1384\u001b[0;31m               \u001b[0mtmp_logs\u001b[0m \u001b[0;34m=\u001b[0m \u001b[0mself\u001b[0m\u001b[0;34m.\u001b[0m\u001b[0mtrain_function\u001b[0m\u001b[0;34m(\u001b[0m\u001b[0miterator\u001b[0m\u001b[0;34m)\u001b[0m\u001b[0;34m\u001b[0m\u001b[0;34m\u001b[0m\u001b[0m\n\u001b[0m\u001b[1;32m   1385\u001b[0m               \u001b[0;32mif\u001b[0m \u001b[0mdata_handler\u001b[0m\u001b[0;34m.\u001b[0m\u001b[0mshould_sync\u001b[0m\u001b[0;34m:\u001b[0m\u001b[0;34m\u001b[0m\u001b[0;34m\u001b[0m\u001b[0m\n\u001b[1;32m   1386\u001b[0m                 \u001b[0mcontext\u001b[0m\u001b[0;34m.\u001b[0m\u001b[0masync_wait\u001b[0m\u001b[0;34m(\u001b[0m\u001b[0;34m)\u001b[0m\u001b[0;34m\u001b[0m\u001b[0;34m\u001b[0m\u001b[0m\n",
            "\u001b[0;32m/usr/local/lib/python3.7/dist-packages/tensorflow/python/util/traceback_utils.py\u001b[0m in \u001b[0;36merror_handler\u001b[0;34m(*args, **kwargs)\u001b[0m\n\u001b[1;32m    148\u001b[0m     \u001b[0mfiltered_tb\u001b[0m \u001b[0;34m=\u001b[0m \u001b[0;32mNone\u001b[0m\u001b[0;34m\u001b[0m\u001b[0;34m\u001b[0m\u001b[0m\n\u001b[1;32m    149\u001b[0m     \u001b[0;32mtry\u001b[0m\u001b[0;34m:\u001b[0m\u001b[0;34m\u001b[0m\u001b[0;34m\u001b[0m\u001b[0m\n\u001b[0;32m--> 150\u001b[0;31m       \u001b[0;32mreturn\u001b[0m \u001b[0mfn\u001b[0m\u001b[0;34m(\u001b[0m\u001b[0;34m*\u001b[0m\u001b[0margs\u001b[0m\u001b[0;34m,\u001b[0m \u001b[0;34m**\u001b[0m\u001b[0mkwargs\u001b[0m\u001b[0;34m)\u001b[0m\u001b[0;34m\u001b[0m\u001b[0;34m\u001b[0m\u001b[0m\n\u001b[0m\u001b[1;32m    151\u001b[0m     \u001b[0;32mexcept\u001b[0m \u001b[0mException\u001b[0m \u001b[0;32mas\u001b[0m \u001b[0me\u001b[0m\u001b[0;34m:\u001b[0m\u001b[0;34m\u001b[0m\u001b[0;34m\u001b[0m\u001b[0m\n\u001b[1;32m    152\u001b[0m       \u001b[0mfiltered_tb\u001b[0m \u001b[0;34m=\u001b[0m \u001b[0m_process_traceback_frames\u001b[0m\u001b[0;34m(\u001b[0m\u001b[0me\u001b[0m\u001b[0;34m.\u001b[0m\u001b[0m__traceback__\u001b[0m\u001b[0;34m)\u001b[0m\u001b[0;34m\u001b[0m\u001b[0;34m\u001b[0m\u001b[0m\n",
            "\u001b[0;32m/usr/local/lib/python3.7/dist-packages/tensorflow/python/eager/def_function.py\u001b[0m in \u001b[0;36m__call__\u001b[0;34m(self, *args, **kwds)\u001b[0m\n\u001b[1;32m    913\u001b[0m \u001b[0;34m\u001b[0m\u001b[0m\n\u001b[1;32m    914\u001b[0m       \u001b[0;32mwith\u001b[0m \u001b[0mOptionalXlaContext\u001b[0m\u001b[0;34m(\u001b[0m\u001b[0mself\u001b[0m\u001b[0;34m.\u001b[0m\u001b[0m_jit_compile\u001b[0m\u001b[0;34m)\u001b[0m\u001b[0;34m:\u001b[0m\u001b[0;34m\u001b[0m\u001b[0;34m\u001b[0m\u001b[0m\n\u001b[0;32m--> 915\u001b[0;31m         \u001b[0mresult\u001b[0m \u001b[0;34m=\u001b[0m \u001b[0mself\u001b[0m\u001b[0;34m.\u001b[0m\u001b[0m_call\u001b[0m\u001b[0;34m(\u001b[0m\u001b[0;34m*\u001b[0m\u001b[0margs\u001b[0m\u001b[0;34m,\u001b[0m \u001b[0;34m**\u001b[0m\u001b[0mkwds\u001b[0m\u001b[0;34m)\u001b[0m\u001b[0;34m\u001b[0m\u001b[0;34m\u001b[0m\u001b[0m\n\u001b[0m\u001b[1;32m    916\u001b[0m \u001b[0;34m\u001b[0m\u001b[0m\n\u001b[1;32m    917\u001b[0m       \u001b[0mnew_tracing_count\u001b[0m \u001b[0;34m=\u001b[0m \u001b[0mself\u001b[0m\u001b[0;34m.\u001b[0m\u001b[0mexperimental_get_tracing_count\u001b[0m\u001b[0;34m(\u001b[0m\u001b[0;34m)\u001b[0m\u001b[0;34m\u001b[0m\u001b[0;34m\u001b[0m\u001b[0m\n",
            "\u001b[0;32m/usr/local/lib/python3.7/dist-packages/tensorflow/python/eager/def_function.py\u001b[0m in \u001b[0;36m_call\u001b[0;34m(self, *args, **kwds)\u001b[0m\n\u001b[1;32m    945\u001b[0m       \u001b[0;31m# In this case we have created variables on the first call, so we run the\u001b[0m\u001b[0;34m\u001b[0m\u001b[0;34m\u001b[0m\u001b[0;34m\u001b[0m\u001b[0m\n\u001b[1;32m    946\u001b[0m       \u001b[0;31m# defunned version which is guaranteed to never create variables.\u001b[0m\u001b[0;34m\u001b[0m\u001b[0;34m\u001b[0m\u001b[0;34m\u001b[0m\u001b[0m\n\u001b[0;32m--> 947\u001b[0;31m       \u001b[0;32mreturn\u001b[0m \u001b[0mself\u001b[0m\u001b[0;34m.\u001b[0m\u001b[0m_stateless_fn\u001b[0m\u001b[0;34m(\u001b[0m\u001b[0;34m*\u001b[0m\u001b[0margs\u001b[0m\u001b[0;34m,\u001b[0m \u001b[0;34m**\u001b[0m\u001b[0mkwds\u001b[0m\u001b[0;34m)\u001b[0m  \u001b[0;31m# pylint: disable=not-callable\u001b[0m\u001b[0;34m\u001b[0m\u001b[0;34m\u001b[0m\u001b[0m\n\u001b[0m\u001b[1;32m    948\u001b[0m     \u001b[0;32melif\u001b[0m \u001b[0mself\u001b[0m\u001b[0;34m.\u001b[0m\u001b[0m_stateful_fn\u001b[0m \u001b[0;32mis\u001b[0m \u001b[0;32mnot\u001b[0m \u001b[0;32mNone\u001b[0m\u001b[0;34m:\u001b[0m\u001b[0;34m\u001b[0m\u001b[0;34m\u001b[0m\u001b[0m\n\u001b[1;32m    949\u001b[0m       \u001b[0;31m# Release the lock early so that multiple threads can perform the call\u001b[0m\u001b[0;34m\u001b[0m\u001b[0;34m\u001b[0m\u001b[0;34m\u001b[0m\u001b[0m\n",
            "\u001b[0;32m/usr/local/lib/python3.7/dist-packages/tensorflow/python/eager/function.py\u001b[0m in \u001b[0;36m__call__\u001b[0;34m(self, *args, **kwargs)\u001b[0m\n\u001b[1;32m   2955\u001b[0m        filtered_flat_args) = self._maybe_define_function(args, kwargs)\n\u001b[1;32m   2956\u001b[0m     return graph_function._call_flat(\n\u001b[0;32m-> 2957\u001b[0;31m         filtered_flat_args, captured_inputs=graph_function.captured_inputs)  # pylint: disable=protected-access\n\u001b[0m\u001b[1;32m   2958\u001b[0m \u001b[0;34m\u001b[0m\u001b[0m\n\u001b[1;32m   2959\u001b[0m   \u001b[0;34m@\u001b[0m\u001b[0mproperty\u001b[0m\u001b[0;34m\u001b[0m\u001b[0;34m\u001b[0m\u001b[0m\n",
            "\u001b[0;32m/usr/local/lib/python3.7/dist-packages/tensorflow/python/eager/function.py\u001b[0m in \u001b[0;36m_call_flat\u001b[0;34m(self, args, captured_inputs, cancellation_manager)\u001b[0m\n\u001b[1;32m   1852\u001b[0m       \u001b[0;31m# No tape is watching; skip to running the function.\u001b[0m\u001b[0;34m\u001b[0m\u001b[0;34m\u001b[0m\u001b[0;34m\u001b[0m\u001b[0m\n\u001b[1;32m   1853\u001b[0m       return self._build_call_outputs(self._inference_function.call(\n\u001b[0;32m-> 1854\u001b[0;31m           ctx, args, cancellation_manager=cancellation_manager))\n\u001b[0m\u001b[1;32m   1855\u001b[0m     forward_backward = self._select_forward_and_backward_functions(\n\u001b[1;32m   1856\u001b[0m         \u001b[0margs\u001b[0m\u001b[0;34m,\u001b[0m\u001b[0;34m\u001b[0m\u001b[0;34m\u001b[0m\u001b[0m\n",
            "\u001b[0;32m/usr/local/lib/python3.7/dist-packages/tensorflow/python/eager/function.py\u001b[0m in \u001b[0;36mcall\u001b[0;34m(self, ctx, args, cancellation_manager)\u001b[0m\n\u001b[1;32m    502\u001b[0m               \u001b[0minputs\u001b[0m\u001b[0;34m=\u001b[0m\u001b[0margs\u001b[0m\u001b[0;34m,\u001b[0m\u001b[0;34m\u001b[0m\u001b[0;34m\u001b[0m\u001b[0m\n\u001b[1;32m    503\u001b[0m               \u001b[0mattrs\u001b[0m\u001b[0;34m=\u001b[0m\u001b[0mattrs\u001b[0m\u001b[0;34m,\u001b[0m\u001b[0;34m\u001b[0m\u001b[0;34m\u001b[0m\u001b[0m\n\u001b[0;32m--> 504\u001b[0;31m               ctx=ctx)\n\u001b[0m\u001b[1;32m    505\u001b[0m         \u001b[0;32melse\u001b[0m\u001b[0;34m:\u001b[0m\u001b[0;34m\u001b[0m\u001b[0;34m\u001b[0m\u001b[0m\n\u001b[1;32m    506\u001b[0m           outputs = execute.execute_with_cancellation(\n",
            "\u001b[0;32m/usr/local/lib/python3.7/dist-packages/tensorflow/python/eager/execute.py\u001b[0m in \u001b[0;36mquick_execute\u001b[0;34m(op_name, num_outputs, inputs, attrs, ctx, name)\u001b[0m\n\u001b[1;32m     53\u001b[0m     \u001b[0mctx\u001b[0m\u001b[0;34m.\u001b[0m\u001b[0mensure_initialized\u001b[0m\u001b[0;34m(\u001b[0m\u001b[0;34m)\u001b[0m\u001b[0;34m\u001b[0m\u001b[0;34m\u001b[0m\u001b[0m\n\u001b[1;32m     54\u001b[0m     tensors = pywrap_tfe.TFE_Py_Execute(ctx._handle, device_name, op_name,\n\u001b[0;32m---> 55\u001b[0;31m                                         inputs, attrs, num_outputs)\n\u001b[0m\u001b[1;32m     56\u001b[0m   \u001b[0;32mexcept\u001b[0m \u001b[0mcore\u001b[0m\u001b[0;34m.\u001b[0m\u001b[0m_NotOkStatusException\u001b[0m \u001b[0;32mas\u001b[0m \u001b[0me\u001b[0m\u001b[0;34m:\u001b[0m\u001b[0;34m\u001b[0m\u001b[0;34m\u001b[0m\u001b[0m\n\u001b[1;32m     57\u001b[0m     \u001b[0;32mif\u001b[0m \u001b[0mname\u001b[0m \u001b[0;32mis\u001b[0m \u001b[0;32mnot\u001b[0m \u001b[0;32mNone\u001b[0m\u001b[0;34m:\u001b[0m\u001b[0;34m\u001b[0m\u001b[0;34m\u001b[0m\u001b[0m\n",
            "\u001b[0;31mKeyboardInterrupt\u001b[0m: "
          ]
        }
      ]
    },
    {
      "cell_type": "code",
      "source": [
        "tf.keras.models.save_model(inception_model, '/content/drive/MyDrive/Colab Notebooks/Multi-class Weather Dataset/Weather_InceptionV3.h5')"
      ],
      "metadata": {
        "id": "ObsiiPEaY1rT"
      },
      "execution_count": null,
      "outputs": []
    },
    {
      "cell_type": "code",
      "source": [
        "def plot_model(model,model_history,epoch,model_name):\n",
        "  epoch_range = range(1, epoch+1)\n",
        "  plt.plot(epoch_range, model_history.history['accuracy'])\n",
        "  plt.plot(epoch_range, model_history.history['val_accuracy'])\n",
        "  plt.title('Classification Accuracy - {}'.format(model_name))\n",
        "  plt.ylabel('Accuracy')\n",
        "  plt.xlabel('Epoch')\n",
        "  plt.legend(['Training Set', 'Validation Set'], loc='lower right')\n",
        "  plt.show()\n",
        "\n",
        "  # Plot training & validation loss values\n",
        "  plt.plot(epoch_range,model_history.history['loss'])\n",
        "  plt.plot(epoch_range, model_history.history['val_loss'])\n",
        "  plt.title('Model loss')\n",
        "  plt.ylabel('Loss')\n",
        "  plt.xlabel('Epoch')\n",
        "  plt.legend(['Training Set', 'Validation Set'], loc='lower right')\n",
        "  plt.show()"
      ],
      "metadata": {
        "id": "hNCXGa8qZpVu"
      },
      "execution_count": null,
      "outputs": []
    },
    {
      "cell_type": "code",
      "source": [
        "plot_model(inception_model,inception_history,10,model_name = 'INCEPTION V3')"
      ],
      "metadata": {
        "colab": {
          "base_uri": "https://localhost:8080/",
          "height": 573
        },
        "id": "s5325GIwZvCM",
        "outputId": "7b752cb0-3933-4934-b56d-576c0d3b7498"
      },
      "execution_count": null,
      "outputs": [
        {
          "output_type": "display_data",
          "data": {
            "text/plain": [
              "<Figure size 432x288 with 1 Axes>"
            ],
            "image/png": "[encoded data removed]"
          },
          "metadata": {
            "needs_background": "light"
          }
        },
        {
          "output_type": "display_data",
          "data": {
            "text/plain": [
              "<Figure size 432x288 with 1 Axes>"
            ],
            "image/png": "[encoded data removed]"
          },
          "metadata": {
            "needs_background": "light"
          }
        }
      ]
    },
    {
      "cell_type": "code",
      "source": [
        "labels = [ 'Cloudy', 'Rain','Shine', 'Sunrise']\n",
        "from sklearn.metrics import classification_report\n",
        "from sklearn.metrics import confusion_matrix\n",
        "from sklearn.metrics import f1_score\n",
        "Y_pred = inception_model.predict_generator(validation_generator)\n",
        "y_pred = np.argmax(Y_pred ,axis =1)\n",
        "print('Confusion Matrix')\n",
        "confusion_matrix = confusion_matrix(validation_generator.classes, y_pred)\n",
        "print(confusion_matrix)\n",
        "print('Classification Report')\n",
        "print(classification_report(validation_generator.classes, y_pred, target_names=labels))"
      ],
      "metadata": {
        "colab": {
          "base_uri": "https://localhost:8080/"
        },
        "id": "Mf45Mrky_6EK",
        "outputId": "96ac8a51-482b-40f5-94ad-0fee46ca4792"
      },
      "execution_count": null,
      "outputs": [
        {
          "output_type": "stream",
          "name": "stdout",
          "text": [
            "Confusion Matrix\n",
            "[[58  0  4  2]\n",
            " [ 2 37  2  0]\n",
            " [ 3  1 36  1]\n",
            " [ 2  1  0 76]]\n",
            "Classification Report\n",
            "              precision    recall  f1-score   support\n",
            "\n",
            "      Cloudy       0.89      0.91      0.90        64\n",
            "        Rain       0.95      0.90      0.92        41\n",
            "       Shine       0.86      0.88      0.87        41\n",
            "     Sunrise       0.96      0.96      0.96        79\n",
            "\n",
            "    accuracy                           0.92       225\n",
            "   macro avg       0.92      0.91      0.91       225\n",
            "weighted avg       0.92      0.92      0.92       225\n",
            "\n"
          ]
        }
      ]
    },
    {
      "cell_type": "code",
      "source": [],
      "metadata": {
        "id": "9b7noilwR148"
      },
      "execution_count": null,
      "outputs": []
    }
  ]
}